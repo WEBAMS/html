{
 "cells": [
  {
   "cell_type": "code",
   "execution_count": null,
   "id": "7524971f",
   "metadata": {},
   "outputs": [],
   "source": [
    "'''Приоритет(значимость) селекторов в порядке убывания:\n",
    "\n",
    "По тегу\n",
    "По классу\n",
    "По id\n",
    "Стиль, указанный в самом теге - самый сильный'''"
   ]
  },
  {
   "cell_type": "code",
   "execution_count": null,
   "id": "505c5614",
   "metadata": {},
   "outputs": [],
   "source": [
    "#selector {} # - создание селектора стилей css\n",
    "\n",
    "id = \"selector\" # - Так обращаемся к селектору в коде HTML\n",
    "\n",
    "# Пример: \n",
    "\n",
    "<p id=\"sel\">text 1 div</p> # В html указываем так\n",
    "\n",
    "#sel {\n",
    "    background-color: blueviolet; # Так задаем стиль в CSS\n",
    "}\n",
    "\n",
    "# Можно совмещать класс и id, значимость такого селектора будет выше, чем у селектора по id, например:\n",
    "\n",
    "<p class=\"main\" id=\"sel\">text 1 div</p> # Так указываем в HTML\n",
    "\n",
    "#sel.main {\n",
    "    background-color: aqua; # # Так указываем в CSS\n",
    "}\n",
    "\n",
    "# Можно указывать несколько селекторов, для которых задаем свойства:\n",
    "\n",
    ".main1, main2 {\n",
    "    background-color: aqua;  # Просто перечисляем в CSS селекторы через запятую\n",
    "}\n",
    "\n",
    "# А в HTML перечисляем их через пробел:\n",
    "\n",
    "<p class=\"main main1\">text 1 div</p>"
   ]
  },
  {
   "cell_type": "code",
   "execution_count": null,
   "id": "c0be7a87",
   "metadata": {},
   "outputs": [],
   "source": [
    "# Есть специальная команда, которая будет выполняться в любом случае - перевешивает все селекторы: !important\n",
    "\n",
    "# Пример:\n",
    "\n",
    ".main {\n",
    "    background-color: bisque !important; # Теперь этот цвет при подключении этого класса перевесит все остальные селекторы\n",
    "}"
   ]
  },
  {
   "cell_type": "code",
   "execution_count": null,
   "id": "8830d9c9",
   "metadata": {},
   "outputs": [],
   "source": [
    "# Если внутри контейнера div есть другие вложенные div(ы) и нужно обратиться,например, ко всем тегам <p>\n",
    "# То в CSS после указания класса через пробел нужно перечислить нужные теги\n",
    "\n",
    ".main p {\n",
    "    text-align: center; # Теперь ко всем тегам <p>, даже во всех вложенных контейнерах div, применится выравнивание по центру\n",
    "}"
   ]
  }
 ],
 "metadata": {
  "kernelspec": {
   "display_name": "Python 3 (ipykernel)",
   "language": "python",
   "name": "python3"
  },
  "language_info": {
   "codemirror_mode": {
    "name": "ipython",
    "version": 3
   },
   "file_extension": ".py",
   "mimetype": "text/x-python",
   "name": "python",
   "nbconvert_exporter": "python",
   "pygments_lexer": "ipython3",
   "version": "3.9.12"
  }
 },
 "nbformat": 4,
 "nbformat_minor": 5
}
