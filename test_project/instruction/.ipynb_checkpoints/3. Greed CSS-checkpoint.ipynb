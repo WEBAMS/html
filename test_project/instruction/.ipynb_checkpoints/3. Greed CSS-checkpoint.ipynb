{
 "cells": [
  {
   "cell_type": "code",
   "execution_count": null,
   "id": "74d88f4e",
   "metadata": {},
   "outputs": [],
   "source": [
    "# Задача - создать страницу, напоминающую интернет-магазин, расположение товаров три по вертикали и три по горизонтали\n",
    "\n",
    "# Она должна быть адаптивной - принимать нужный размер на различных устройствах"
   ]
  },
  {
   "cell_type": "code",
   "execution_count": null,
   "id": "77bc3075",
   "metadata": {},
   "outputs": [],
   "source": [
    "# CSS. Удалим все отступы на странице\n",
    "\n",
    ". {\n",
    "    margin: 0;\n",
    "    padding: 0;\n",
    "}"
   ]
  },
  {
   "cell_type": "code",
   "execution_count": null,
   "id": "a8df8211",
   "metadata": {},
   "outputs": [],
   "source": [
    "# HTML\n",
    "# Далее необходимо создать один общий контейнер, который будет хранить все элементы\n",
    "\n",
    "<div class=\"conteiner\">  # Сразу зададим ему имя будущего класса\n",
    "        \n",
    "</div>"
   ]
  },
  {
   "cell_type": "code",
   "execution_count": null,
   "id": "4078b517",
   "metadata": {},
   "outputs": [],
   "source": [
    "# HTML\n",
    "# Внутри него создадим еще один контейнер, для карточек товаров\n",
    "\n",
    "<div class=\"conteiner\">\n",
    "    <div class=\"card\"> # Для карточек товаров\n",
    "            \n",
    "    </div>\n",
    "</div>"
   ]
  },
  {
   "cell_type": "code",
   "execution_count": null,
   "id": "f53cba93",
   "metadata": {},
   "outputs": [],
   "source": [
    "# HTML\n",
    "# Поместим в него любую картинку и продублируем 9 раз - это будут карточки товаров\n",
    "<div class=\"conteiner\">\n",
    "    <div class=\"card\"><img src=\"img/img1.jpg\" alt=\"\"></div>\n",
    "    <div class=\"card\"><img src=\"img/img1.jpg\" alt=\"\"></div>\n",
    "    <div class=\"card\"><img src=\"img/img1.jpg\" alt=\"\"></div>\n",
    "    <div class=\"card\"><img src=\"img/img1.jpg\" alt=\"\"></div>\n",
    "    <div class=\"card\"><img src=\"img/img1.jpg\" alt=\"\"></div>\n",
    "    <div class=\"card\"><img src=\"img/img1.jpg\" alt=\"\"></div>\n",
    "    <div class=\"card\"><img src=\"img/img1.jpg\" alt=\"\"></div>\n",
    "    <div class=\"card\"><img src=\"img/img1.jpg\" alt=\"\"></div>\n",
    "    <div class=\"card\"><img src=\"img/img1.jpg\" alt=\"\"></div>\n",
    "</div>"
   ]
  },
  {
   "cell_type": "code",
   "execution_count": null,
   "id": "800031ed",
   "metadata": {},
   "outputs": [],
   "source": [
    "#CSS\n",
    "# Укажем ширину картинок в карточках товаров\n",
    "\n",
    ".card img {\n",
    "    width: 100%; # У всех тегов img в этом классе .card картинка будет занимать 100% колонки\n",
    "}\n",
    "\n",
    "# Обращаемся к главному контейнеру и задаем ему свойство - greed(сетка). Repeat - переводится как повтор.\n",
    "\n",
    ".conteiner {\n",
    "    display: grid;\n",
    "    grid-template-columns: repeat (3, 1fr); # Указываем количество столбцов(Поделили экран на три равные части)\n",
    "    grid-template-rows: repeat (3); # Указали три строки(можно через запятую указать высоту в px). Можно оставить параметр Auto\n",
    "}"
   ]
  },
  {
   "cell_type": "code",
   "execution_count": null,
   "id": "04e20606",
   "metadata": {},
   "outputs": [],
   "source": [
    "#CSS\n",
    "\n",
    "# Пропишем в свойствах стиля контейнера .card отступы по все стороны\n",
    "\n",
    ".card {\n",
    "    margin: 1.5em;\n",
    "}"
   ]
  },
  {
   "cell_type": "code",
   "execution_count": null,
   "id": "7bbd6744",
   "metadata": {},
   "outputs": [],
   "source": [
    "# CSS\n",
    "\n",
    "# Устанавливаем адаптивный размер страницы для планшетов\n",
    "\n",
    "@media (max-width: 800px) {\n",
    "    .conteiner {\n",
    "        grid-template-columns: repeat(2, 1fr);  # Если ширина экрана стане меньше 800px, то столбцов станет два, а строк 5\n",
    "        grid-template-rows: repeat (5);\n",
    "    }\n",
    "\n",
    "}\n",
    "\n",
    "# Устанавливаем адаптивный размер страницы для смартфонов\n",
    "\n",
    "@media (max-width: 600px) {\n",
    "    .conteiner {\n",
    "        grid-template-columns: repeat(1, 1fr); # Если ширина экрана стане меньше 600px, то столбцов станет один, а строк 9\n",
    "        grid-template-rows: repeat (9);\n",
    "    }\n",
    "    \n",
    "    .card {\n",
    "        margin-inline: 0; # Боковых отступов между колонками не будет. Остануться только верхние/нижние\n",
    "    }\n",
    "\n",
    "}"
   ]
  },
  {
   "cell_type": "code",
   "execution_count": null,
   "id": "95898866",
   "metadata": {},
   "outputs": [],
   "source": [
    "# HTML\n",
    "\n",
    "# Добавим в карточку товара его название, цену и кнопку\n",
    "\n",
    "<div class=\"conteiner\">\n",
    "        <div class=\"card\">\n",
    "            <img src=\"img/img1.jpg\" alt=\"\">\n",
    "            <div>\n",
    "                <p>Чебурек</p>\n",
    "                <p>25р</p>\n",
    "                <button>Купить сейчас</button>\n",
    "            </div>\n",
    "        </div>\n",
    "\n",
    "# Затем название, цену и изображение сделаем ссылками\n",
    "        \n",
    "    <div class=\"conteiner\">\n",
    "        <div class=\"card\">\n",
    "            <a href=\"#\"><img src=\"img/img1.jpg\" alt=\"\"></a> # Сссылка на изображение\n",
    "            <div>\n",
    "                <a href=\"#\">\n",
    "                    <p>Чебурек</p> # Ссылка на название\n",
    "                </a>\n",
    "                <a href=\"#\">\n",
    "                    <p>25р</p> # Ссылка на цену\n",
    "                </a>\n",
    "                <button>Купить сейчас</button>\n",
    "            </div>\n",
    "        </div>"
   ]
  },
  {
   "cell_type": "code",
   "execution_count": null,
   "id": "6eec643f",
   "metadata": {},
   "outputs": [],
   "source": [
    "# HTML\n",
    "\n",
    "# Контейнеру div из описания и цены дадим идентификатор, например info, и придадим ему свойства в CSS\n",
    "\n",
    "        <div class=\"card\">\n",
    "            <a href=\"#\"><img src=\"img/img1.jpg\" alt=\"\"></a>\n",
    "            <div class=\"info\" >  # Дали идентификатор\n",
    "                <a href=\"#\">\n",
    "                    <p>Чебурек</p>\n",
    "                </a>\n",
    "                <a href=\"#\">\n",
    "                    <p>25р</p>\n",
    "                </a>\n",
    "                <button>Купить сейчас</button>\n",
    "            </div>\n",
    "        </div>\n",
    "\n",
    "# Продублируем этот код карты товара 9 раз, чтобы создать страницу с 9 товарами"
   ]
  },
  {
   "cell_type": "code",
   "execution_count": null,
   "id": "cbf086a2",
   "metadata": {},
   "outputs": [],
   "source": [
    "# CSS\n",
    "\n",
    "# Выровняли содержимое внутри этого контейнера по центру\n",
    "\n",
    ".card>.info {\n",
    "    text-align: center;\n",
    "}"
   ]
  },
  {
   "cell_type": "code",
   "execution_count": null,
   "id": "efc2c70b",
   "metadata": {},
   "outputs": [],
   "source": [
    "# CSS\n",
    "\n",
    "# Создадим новый файл CSS - stylemainconteiner.css - и подключим его в HTML\n",
    "\n",
    "<link rel=\"stylesheet\" href=\"css/stylemainconteiner.css\">\n",
    "\n",
    "# Скопируем в него из файла style.css код медиа-запросов:\n",
    "\n",
    ".conteiner {\n",
    "    display: grid;\n",
    "    grid-template-columns: repeat(3, 1fr);\n",
    "    grid-template-rows: repeat (3);\n",
    "}\n",
    "\n",
    "@media (max-width: 800px) {\n",
    "    .conteiner {\n",
    "        grid-template-columns: repeat(2, 1fr);\n",
    "        grid-template-rows: repeat (5);\n",
    "    }\n",
    "\n",
    "}\n",
    "\n",
    "@media (max-width: 600px) {\n",
    "    .conteiner {\n",
    "        grid-template-columns: repeat(1, 1fr);\n",
    "        grid-template-rows: repeat (9);\n",
    "    }\n",
    "\n",
    "    .card {\n",
    "        margin-inline: 0;\n",
    "    }\n",
    "\n",
    "}"
   ]
  }
 ],
 "metadata": {
  "kernelspec": {
   "display_name": "Python 3 (ipykernel)",
   "language": "python",
   "name": "python3"
  },
  "language_info": {
   "codemirror_mode": {
    "name": "ipython",
    "version": 3
   },
   "file_extension": ".py",
   "mimetype": "text/x-python",
   "name": "python",
   "nbconvert_exporter": "python",
   "pygments_lexer": "ipython3",
   "version": "3.9.12"
  }
 },
 "nbformat": 4,
 "nbformat_minor": 5
}
