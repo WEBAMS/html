{
 "cells": [
  {
   "cell_type": "code",
   "execution_count": null,
   "id": "14cbb630",
   "metadata": {},
   "outputs": [],
   "source": [
    "HTML\n",
    "\n",
    "К строчным тегам, например, <span>, не могут применяться параметры ширины/высоты\n"
   ]
  },
  {
   "cell_type": "code",
   "execution_count": null,
   "id": "1f56f12b",
   "metadata": {},
   "outputs": [],
   "source": [
    "CSS\n",
    "\n",
    ".class {} - создание класса стилей css\n",
    "p {} - создание стиля css по тегу(например р)\n",
    "\n",
    "display: block; - располагает содержимое на всю ширину страницы\n",
    "display: inline; - занимает столько места, сколько в нем содержимого. Не воспринимает параметры ширины/высоты\n",
    "display: inline-block; - строчный как inline, но можно регулировать ширину/высоту\n",
    "display: flex; - по умолчанию располагает содержимое в одну линии. При уменьшении ширины экрана не переносит содержимое\n",
    "    flex-direction: row; - свойство расположения элементов\n",
    "        justify-content: center; - выравнивание работает только во flex и grid контейнерах по горизонтали\n",
    "        justify-content: space-between; - распределяет все свободное пространство между элементами(раздвигает элементы)\n",
    "        align-items: center; - выравнивание работает только во flex и grid контейнерах по вертикали"
   ]
  },
  {
   "cell_type": "code",
   "execution_count": null,
   "id": "4f6205a5",
   "metadata": {},
   "outputs": [],
   "source": [
    "# .conteiner>img {} - так можно обратиться ко всем тегам img(или другим) внутри класса. Т.е к дочерним"
   ]
  },
  {
   "cell_type": "code",
   "execution_count": null,
   "id": "47ba2e9a",
   "metadata": {},
   "outputs": [],
   "source": [
    "# Float: right; - плавающий элемент, другие элементы его не замечают и обтекают в зависимости от указанного параметра"
   ]
  },
  {
   "cell_type": "code",
   "execution_count": null,
   "id": "222c7281",
   "metadata": {},
   "outputs": [],
   "source": [
    "# list-style: none; - убирает свойства элементов(например точки в меню <ul>)"
   ]
  },
  {
   "cell_type": "code",
   "execution_count": null,
   "id": "f62e9cae",
   "metadata": {},
   "outputs": [],
   "source": [
    "# Можно прописать стили в коде страницы, в части head\n",
    "    \n",
    "    <style>\n",
    "        a {\n",
    "            text-decoration: none;  # У всех ссылок( тег а) на страницы убрали подчеркивание\n",
    "        }\n",
    "    </style>"
   ]
  },
  {
   "cell_type": "code",
   "execution_count": null,
   "id": "5bbb510c",
   "metadata": {},
   "outputs": [],
   "source": [
    "# Медиа запросы CSS\n",
    "\n",
    "# Оформляются в файле CSS\n",
    "\n",
    "# В этом примере в классе .nav-conteiner при ширине экрана до 900px будут применяться стили, указанные в @media\n",
    "@media (max-width: 900px) {\n",
    "    .nav-conteiner {\n",
    "        flex-direction: column; - # Элементы располагаются в виде столбцов\n",
    "    }\n",
    "} "
   ]
  },
  {
   "cell_type": "code",
   "execution_count": null,
   "id": "99386858",
   "metadata": {},
   "outputs": [],
   "source": [
    "# Пример размещения на странице основного содержимого и левой колонки меню\n",
    "\n",
    "# Содержимое и колонку помещаем каждый в свой контейнер div: left-menu и center\n",
    "\n",
    "# Поскольку div - блочный элемент, то нужно превратить их в строчные\n",
    "\n",
    "# Для этого создаем еще один контейнер div(присвоим ему класс page) и помещаем в него два предыдущих.\n",
    "\n",
    "# В style.css задаем этому контейнеру свойство flex и выравниваем содержимое по центру:\n",
    "\n",
    ".page {\n",
    "    display: flex;\n",
    "    justify-content: center;\n",
    "}\n",
    "\n",
    "# Зададим колонкам ширину. 4% оставим на поля. \n",
    "\n",
    ".left-menu {\n",
    "    width: 14%;\n",
    "    background-color: aliceblue;  # Добавим цвет фона\n",
    "    \n",
    "}\n",
    "\n",
    ".center {\n",
    "    width: 82%;\n",
    "}\n",
    "\n",
    "# Внутри DIV center для содержимого создадим еще один контейнер div с классом text-page. В файле стилей зададим отступ \n",
    "\n",
    ".text-page {\n",
    "    padding-left: 15px; # Внутренний отступ с левой стороны для содержимого\n",
    "}\n",
    "\n",
    "# В левую колонку для наполнения поместим любой список:\n",
    "    \n",
    "        <div class=\"left-menu\">\n",
    "            <ul>\n",
    "                <li><a href=\"#\">Один</a></li>\n",
    "                <li><a href=\"#\">Два</a></li>\n",
    "                <li><a href=\"#\">Три</a></li>\n",
    "                <li><a href=\"#\">Четыре</a></li>\n",
    "                <li><a href=\"#\">Пять</a></li>\n",
    "            </ul>\n",
    "        </div>\n",
    "        \n",
    "# В стилях обратимся к этому списку ol через родительский класс class=\"left-menu\":\n",
    "\n",
    ".left-menu > ol {\n",
    "    list-style: none;  # Убираем всё оформление\n",
    "    border-bottom-style: solid; # Добавляем нижнее подчеркивание списка\n",
    "    border-width: 0.5px; # Устанавливаем ширину подчеркивания\n",
    "    margin: 10px; # Дадим внешний отступ\n",
    "    padding: 0; # Удалим все внутренние отступы\n",
    "    padding-bottom: 10px; И добавим только нижний отстум(чтобы отделить текст от подчеркивания)\n",
    "}"
   ]
  },
  {
   "cell_type": "code",
   "execution_count": null,
   "id": "b7375912",
   "metadata": {},
   "outputs": [],
   "source": [
    "# Пример размещения \"плывущей\" картинки в правой части дисплея.\n",
    "\n",
    "# Создаем контейнер div, присвоим ему класс img-title. В стилях пропишем свойства\n",
    "\n",
    ".img-title {\n",
    "    float: right; # Плывущий элемент, все элементы обтекают его\n",
    "    border-style: solid;  # добавляем границу\n",
    "    border-width: 0.5px;  # толщина границы\n",
    "    padding: 5px; # Внутренний отступ от границы\n",
    "    margin-left: 10px;  # Внешний отступ слева\n",
    "}\n",
    "\n",
    "# Внутри него создадим еще один контейнер div\n",
    "# В стилях обратимся к этому контейнеру через родительский класс class=\"img-title\":\n",
    "\n",
    ".img-title > div {\n",
    "    display: flex; # Располагает содержимое в одну линии\n",
    "    align-items: center; # Выравнивает содержимое по горизонтали\n",
    "    flex-direction: column; # Располагает содержимое в виде столбцов\n",
    "}"
   ]
  },
  {
   "cell_type": "code",
   "execution_count": null,
   "id": "07d4ea35",
   "metadata": {},
   "outputs": [],
   "source": [
    "# Пример размещения статичного изображения\n",
    "\n",
    "# Если изображение не помещается, налезает на прочий контент, его нужно поместить в контейнер div\n",
    "\n",
    "<div>\n",
    "    <img src=\"https://upload.wikimedia.org/\" alt=\"Описание картинки\">\n",
    "</div>\n",
    "\n",
    "# В стилях задаем свойства тегу div, который находится в родительском контейнере .left-menu\n",
    "\n",
    ".left-menu>div {\n",
    "    width: 100%; # задаем ширину контейнера по всей родительской колонке(ранее задали её ширину 14% от всей страницы)\n",
    "}\n",
    "\n",
    "# Обращаемся к тегу img в этом контейнере\n",
    "\n",
    ".left-menu>div>img {\n",
    "    width: 100%;  # Картинка также станет размером всей ширины контейнера div\n",
    "}\n"
   ]
  }
 ],
 "metadata": {
  "kernelspec": {
   "display_name": "Python 3 (ipykernel)",
   "language": "python",
   "name": "python3"
  },
  "language_info": {
   "codemirror_mode": {
    "name": "ipython",
    "version": 3
   },
   "file_extension": ".py",
   "mimetype": "text/x-python",
   "name": "python",
   "nbconvert_exporter": "python",
   "pygments_lexer": "ipython3",
   "version": "3.9.12"
  }
 },
 "nbformat": 4,
 "nbformat_minor": 5
}
